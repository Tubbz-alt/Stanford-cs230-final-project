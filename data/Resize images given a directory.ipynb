{
 "cells": [
  {
   "cell_type": "code",
   "execution_count": 53,
   "metadata": {},
   "outputs": [],
   "source": [
    "import os\n",
    "\n",
    "from PIL import Image\n",
    "\n",
    "from resizeimage import resizeimage\n",
    "\n",
    "# directory = \"/Users/loujunjie/Desktop/laneseg_label_w16/driver_161_90frame/06030819_0755.MP4/\"\n",
    "ROOT_DIR = \"/Users/loujunjie/Desktop/laneseg_label_w16/driver_161_90frame/\"\n",
    "\n",
    "# Resize to 1/5 of original size, keep same height/width ratio\n",
    "resize_width = 1640/5\n",
    "resize_height = 590/5"
   ]
  },
  {
   "cell_type": "code",
   "execution_count": 84,
   "metadata": {
    "collapsed": true
   },
   "outputs": [],
   "source": [
    "def resize_image(image_parent_directory, image_filename):\n",
    "#     print image_parent_directory, image_filename\n",
    "    image_full_directory = os.path.join(image_parent_directory, image_filename)\n",
    "#     print image_full_directory\n",
    "    image = Image.open(image_full_directory)\n",
    "    # print image.size\n",
    "    cover = resizeimage.resize_cover(image, [resize_width, resize_height])\n",
    "    \n",
    "    resized_image_name = image_parent_directory + \"/resized-\" + image_filename\n",
    "    cover.save(resized_image_name, image.format)"
   ]
  },
  {
   "cell_type": "code",
   "execution_count": 85,
   "metadata": {},
   "outputs": [],
   "source": [
    "def loop_directory(directory):\n",
    "    for filename in os.listdir(directory):\n",
    "        if os.path.isdir(os.path.join(directory, filename)):\n",
    "            loop_directory(os.path.join(directory, filename))\n",
    "        elif filename.endswith(\"00000.png\") and directory.endswith(\"06030819_0755.MP4\"):\n",
    "#             print directory, filename\n",
    "            resize_image(directory, filename)"
   ]
  },
  {
   "cell_type": "code",
   "execution_count": 86,
   "metadata": {},
   "outputs": [
    {
     "name": "stdout",
     "output_type": "stream",
     "text": [
      "/Users/loujunjie/Desktop/laneseg_label_w16/driver_161_90frame/06030819_0755.MP4 00000.png\n",
      "/Users/loujunjie/Desktop/laneseg_label_w16/driver_161_90frame/06030819_0755.MP4/00000.png\n"
     ]
    }
   ],
   "source": [
    "loop_directory(ROOT_DIR)"
   ]
  },
  {
   "cell_type": "code",
   "execution_count": null,
   "metadata": {
    "collapsed": true
   },
   "outputs": [],
   "source": []
  }
 ],
 "metadata": {
  "kernelspec": {
   "display_name": "Python 2",
   "language": "python",
   "name": "python2"
  },
  "language_info": {
   "codemirror_mode": {
    "name": "ipython",
    "version": 2
   },
   "file_extension": ".py",
   "mimetype": "text/x-python",
   "name": "python",
   "nbconvert_exporter": "python",
   "pygments_lexer": "ipython2",
   "version": "2.7.13"
  }
 },
 "nbformat": 4,
 "nbformat_minor": 2
}
