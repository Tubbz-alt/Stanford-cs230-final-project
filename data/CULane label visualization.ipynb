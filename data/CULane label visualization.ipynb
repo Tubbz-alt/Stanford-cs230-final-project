{
 "cells": [
  {
   "cell_type": "code",
   "execution_count": 22,
   "metadata": {
    "collapsed": true
   },
   "outputs": [],
   "source": [
    "from PIL import Image"
   ]
  },
  {
   "cell_type": "code",
   "execution_count": 23,
   "metadata": {},
   "outputs": [
    {
     "name": "stdout",
     "output_type": "stream",
     "text": [
      "(1640, 590)\n"
     ]
    }
   ],
   "source": [
    "im = Image.open(\"/Users/loujunjie/Desktop/laneseg_label_w16/driver_161_90frame/06030819_0755.MP4/00000.png\")\n",
    "pix = im.load()\n",
    "print im.size"
   ]
  },
  {
   "cell_type": "code",
   "execution_count": 9,
   "metadata": {
    "collapsed": true
   },
   "outputs": [],
   "source": [
    "# Visualize the labels\n",
    "for x in range(0,1640):\n",
    "    for y in range(0,590):\n",
    "#         print pix[x,y]\n",
    "        pix[x,y] *= 50\n",
    "\n",
    "im.save(\"/Users/loujunjie/Desktop/test.png\")"
   ]
  },
  {
   "cell_type": "code",
   "execution_count": 16,
   "metadata": {},
   "outputs": [
    {
     "name": "stdout",
     "output_type": "stream",
     "text": [
      "[940851, 6580, 3150, 6438, 10581, 0]\n"
     ]
    }
   ],
   "source": [
    "# Confirms pixel values are 0, 1, 2, 3, 4\n",
    "count = [0, 0, 0, 0, 0, 0]\n",
    "for x in range(0,1640):\n",
    "    for y in range(0,590):\n",
    "        count[pix[x,y]] += 1\n",
    "print count"
   ]
  },
  {
   "cell_type": "code",
   "execution_count": null,
   "metadata": {
    "collapsed": true
   },
   "outputs": [],
   "source": []
  }
 ],
 "metadata": {
  "kernelspec": {
   "display_name": "Python 2",
   "language": "python",
   "name": "python2"
  },
  "language_info": {
   "codemirror_mode": {
    "name": "ipython",
    "version": 2
   },
   "file_extension": ".py",
   "mimetype": "text/x-python",
   "name": "python",
   "nbconvert_exporter": "python",
   "pygments_lexer": "ipython2",
   "version": "2.7.13"
  }
 },
 "nbformat": 4,
 "nbformat_minor": 2
}
